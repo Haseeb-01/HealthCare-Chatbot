{
 "cells": [
  {
   "cell_type": "code",
   "execution_count": 10,
   "metadata": {},
   "outputs": [],
   "source": [
    "import pandas as pd\n",
    "\n",
    "# Load datasets (adjust file paths as needed)\n",
    "medical_df = pd.read_csv('ai-medical-chatbot.csv')\n",
    "\n",
    "mental_health_df = pd.read_csv('mental-health.csv')\n",
    "\n",
    "\n",
    "# Combine all datasets into one\n",
    "df = pd.concat([medical_df, mental_health_df, ], ignore_index=True)"
   ]
  },
  {
   "cell_type": "code",
   "execution_count": 11,
   "metadata": {},
   "outputs": [],
   "source": [
    "# Optional preprocessing: lowercase questions\n",
    "df['Description'] = df['Description'].str.lower()"
   ]
  },
  {
   "cell_type": "code",
   "execution_count": 12,
   "metadata": {},
   "outputs": [],
   "source": [
    "df['Patient'] = df['Patient'].str.lower()\n",
    "df['Doctor'] = df['Doctor'].str.lower()\n",
    "df['Context'] = df['Context'].str.lower()\n",
    "df['Response'] = df['Response'].str.lower()"
   ]
  },
  {
   "cell_type": "code",
   "execution_count": 13,
   "metadata": {},
   "outputs": [],
   "source": [
    "from sentence_transformers import SentenceTransformer\n",
    "\n",
    "# Load the model\n",
    "model = SentenceTransformer('all-MiniLM-L6-v2')"
   ]
  },
  {
   "cell_type": "code",
   "execution_count": null,
   "metadata": {},
   "outputs": [
    {
     "name": "stderr",
     "output_type": "stream",
     "text": [
      "Generating Embeddings: 100%|██████████| 5/5 [00:00<00:00,  5.97it/s]\n"
     ]
    },
    {
     "name": "stdout",
     "output_type": "stream",
     "text": [
      "✅ Embeddings and answers saved successfully!\n"
     ]
    }
   ],
   "source": [
    "import pandas as pd\n",
    "import numpy as np\n",
    "import joblib\n",
    "from sentence_transformers import SentenceTransformer\n",
    "from tqdm import tqdm\n",
    "from joblib import Parallel, delayed\n",
    "\n",
    "# Step 1: Define the datasets and their column names\n",
    "datasets = [\n",
    "    {'file': 'ai-medical-chatbot.csv', 'question_col': 'Patient', 'answer_col': 'Doctor'},\n",
    "    {'file': 'mental-health.csv', 'question_col': 'Context', 'answer_col': 'Response'},\n",
    "]\n",
    "\n",
    "# Step 2: Load and combine the datasets\n",
    "dfs = []\n",
    "for dataset in datasets:\n",
    "    try:\n",
    "        df_temp = pd.read_csv(dataset['file'], usecols=[dataset['question_col'], dataset['answer_col']])\n",
    "        df_temp = df_temp.rename(columns={dataset['question_col']: 'question', dataset['answer_col']: 'answer'})\n",
    "        dfs.append(df_temp)\n",
    "    except Exception as e:\n",
    "        print(f\"Error loading {dataset['file']}: {e}\")\n",
    "\n",
    "# Combine all data into one DataFrame\n",
    "df = pd.concat(dfs, ignore_index=True)\n",
    "\n",
    "# Optional: Use only a random sample of 10,000 rows for faster processing\n",
    "df = df.sample(n=min(10000, len(df)), random_state=42)\n",
    "\n",
    "# Step 3: Basic preprocessing (convert questions to lowercase)\n",
    "df['question'] = df['question'].astype(str).str.lower()\n",
    "\n",
    "# Step 4: Load a lightweight embedding model\n",
    "model = SentenceTransformer('all-MiniLM-L6-v2')\n",
    "\n",
    "# Step 5: Define a batch processing function\n",
    "def process_batch(batch):\n",
    "    return model.encode(batch, show_progress_bar=False)\n",
    "\n",
    "# Step 6: Split data into batches\n",
    "batch_size = 2000  # Adjust based on available RAM\n",
    "batches = [df['question'][i:i + batch_size].tolist() for i in range(0, len(df), batch_size)]\n",
    "\n",
    "# Step 7: Generate embeddings in parallel (faster execution)\n",
    "embeddings = Parallel(n_jobs=-1)(\n",
    "    delayed(process_batch)(batch) for batch in tqdm(batches, desc=\"Generating Embeddings\")\n",
    ")\n",
    "\n",
    "# Flatten embeddings list\n",
    "embeddings = np.vstack(embeddings)\n",
    "\n",
    "# Step 8: Save embeddings and answers efficiently \n",
    "joblib.dump(embeddings, 'embeddings.joblib')\n",
    "joblib.dump(df['answer'].tolist(), 'answers.joblib')\n",
    "\n",
    "print(\"✅ Embeddings and answers saved successfully!\")\n"
   ]
  }
 ],
 "metadata": {
  "kernelspec": {
   "display_name": "venv",
   "language": "python",
   "name": "python3"
  },
  "language_info": {
   "codemirror_mode": {
    "name": "ipython",
    "version": 3
   },
   "file_extension": ".py",
   "mimetype": "text/x-python",
   "name": "python",
   "nbconvert_exporter": "python",
   "pygments_lexer": "ipython3",
   "version": "3.13.2"
  }
 },
 "nbformat": 4,
 "nbformat_minor": 2
}
